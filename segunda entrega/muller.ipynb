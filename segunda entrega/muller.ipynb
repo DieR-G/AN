{
 "cells": [
  {
   "cell_type": "markdown",
   "metadata": {},
   "source": [
    "# Método de Müller para raíces de funciones algebraicas.\n",
    "El algoritmo de Müller fue definido como un método iterativo para encontrar raíces de funciones algebraicas a través de la utilización de un polinomio interpolante de segundo grado que busca aproximar raíces de funciones continuas. Una particularidad del algoritmo es que como utiliza la fórmula cuadrática es capaz de encontrar raíces complejas de la función a investigar. Las iteraciones se definen como:\n",
    "$$x_{n+1}=x_n - \\frac{2f(x_n)}{b \\pm \\sqrt{b^2 - 4f(x_n)f[x_n,x_{n-1},x_{n-2}]}}$$\n",
    "Donde $b = f[x_{n},x_{n-1}]+f[x_{n},x_{n-2}]-f[x_{n-1},f{x_{n-2}}]$ y $f[x_n,\\ldots,x_0]$ es la operación diferencia dividida de Newton definida recursivamente como:\n",
    "$$f[x_n,...,x_0] = \\frac{f[x_{n-1},\\ldots,x_0] - f[x_{n},\\ldots,x_1]}{x_0-x_n}$$\n",
    "Para la implementación se puede comenzar importando las librerías a utilizar y posteriormente definiendo una función para la operación de diferencias divididas de Newton.\n"
   ]
  },
  {
   "cell_type": "code",
   "execution_count": 1,
   "metadata": {},
   "outputs": [],
   "source": [
    "import pandas as pd\n",
    "import sympy as sp\n",
    "import numpy as np \n",
    "import os as os\n",
    "import matplotlib.pyplot as plt\n",
    "from cmath import *\n",
    "\n",
    "pd.set_option(\"display.precision\", 10)\n",
    "\n",
    "# devuelve un diccionario donde cada llave es un elemento de la tupla y cada elemento una lista vacía\n",
    "def create_dictionary(tuple):\n",
    "    result = {}\n",
    "    for key in tuple:\n",
    "        result.setdefault(key, [])\n",
    "    return result\n",
    "\n",
    "# agrega los datos especificados a una tabla\n",
    "def add_info(dictionary, columns, data):\n",
    "    i = 0\n",
    "    for c in columns:\n",
    "        dictionary[c].append(data[i])\n",
    "        i += 1"
   ]
  },
  {
   "cell_type": "markdown",
   "metadata": {},
   "source": [
    "Como el método solo utiliza segundas diferencias divididas se puede escribir la fórmula directamente sin necesidad de implementar recursividad o alguna técnica de memorización (como programación dinámica por ejemplo)."
   ]
  },
  {
   "cell_type": "code",
   "execution_count": 2,
   "metadata": {},
   "outputs": [],
   "source": [
    "def first_divided_difference(f,x1,x0):\n",
    "    return (f(x1)-f(x0))/(x1-x0)\n",
    "\n",
    "def second_divided_difference(f,x2,x1,x0):\n",
    "    return (first_divided_difference(f,x1,x0) - first_divided_difference(f,x2,x1))/(x0-x2)"
   ]
  },
  {
   "cell_type": "markdown",
   "metadata": {},
   "source": [
    "Luego como datos de entrada por parte del usuario se solicitan tres puntos que aproximen alguna raíz de la función, la función y una tolerancia $\\epsilon$ como condición de paro, la cual se utiliza como $|f(x)| < \\epsilon$. "
   ]
  },
  {
   "cell_type": "code",
   "execution_count": 3,
   "metadata": {},
   "outputs": [],
   "source": [
    "# Dado que el algoritmo de Müller está enfocado en raíces complejas, los valores iniciales también son números complejos\n",
    "x_0 = 1+1j\n",
    "x_1 = 2.5\n",
    "x_2 = 3\n",
    "tol = 1e-14\n",
    "# Definiendo un string que representa la función de forma simbólica utilizando x como variable\n",
    "f_string = \"x**5 + 11*x**4 - 21*x**3 - 10*x**2 - 21*x - 5\""
   ]
  },
  {
   "cell_type": "markdown",
   "metadata": {},
   "source": [
    "Para la implementación del algoritmo se procede a calcular:\n",
    "* La cantidad de iteraciones para encontrar la raíz.\n",
    "* el valor de la raíz.\n",
    "* el valor de la función evaluada en la raíz.\n",
    "\n",
    "Con dichos datos también se puede mostrar que el algoritmo es capaz de encontrar múltiples raíces de una función en caso de ser necesario, esto se hace alterando la función como $g(x) = \\frac{f(x)}{(x-\\alpha)}$ donde $\\alpha$ es una de las raíces encontradas. A esto se le conoce como supresión y puede leerse más al respecto en [Practical Problems Arising in the Solution of Polynomial Equations](https://sci-hub.se/10.1093/imamat/8.1.16).   \n",
    "Aplicar el procedimiento anteriormente mencionado hará que la función termine siendo una función constante, por lo que la función incluirá un argumento opcional para definir la cantidad de raíces en caso de que la función tenga demasiadas (por ejemplo una función oscilante periódica que tiene infinitas raíces).\n",
    "Con todas esas consideraciones, la implementación del algoritmo queda como"
   ]
  },
  {
   "cell_type": "code",
   "execution_count": 4,
   "metadata": {},
   "outputs": [],
   "source": [
    "# Validación de la función\n",
    "def valid_function(a, b, c):\n",
    "    # se asume que si la diferencia relativa entre los valores es menor o igual a 1% la función es constante y por lo tanto\n",
    "    # no es válida para seguir investigando raíces\n",
    "    if ( isclose(a,b,rel_tol=1e-2) and isclose(a,c,rel_tol=1e-2) and isclose(b,c,rel_tol=1e-2)):\n",
    "         return False\n",
    "    else:\n",
    "         return True"
   ]
  },
  {
   "cell_type": "code",
   "execution_count": 5,
   "metadata": {},
   "outputs": [],
   "source": [
    "# Función para encontrar una raíz, devuelve una fila para formar una tabla posteriormente\n",
    "def muller(x_0, x_1, x_2, f, tol, max_iterations = 100):\n",
    "    # datos iniciales para el algoritmo\n",
    "    a = 0 + 0j\n",
    "    b = 0 + 0j\n",
    "    c = 0 + 0j\n",
    "    x_n = x_2\n",
    "    x0, x1, x2 = x_0, x_1, x_2\n",
    "    d = 0 + 0j\n",
    "    e = 0 + 0j\n",
    "    i = 0\n",
    "    while( abs(f(x_n)) > tol and i < max_iterations ):\n",
    "        try:\n",
    "            a = second_divided_difference(f, x2, x1, x0)\n",
    "            b = first_divided_difference(f,x2,x1) + first_divided_difference(f,x2,x0) - first_divided_difference(f,x1,x0)\n",
    "            c = f(x2)\n",
    "            d = sqrt(b**2 - 4*a*c)\n",
    "            # Eligiendo signo para maximizar la magnitud del denominador:\n",
    "            e = ( b + d ) if ( abs( b - d ) < abs( b + d ) ) else ( b - d ) \n",
    "            h = -2*c/e\n",
    "            x_n = x2 + h\n",
    "            x0 = x1\n",
    "            x1 = x2\n",
    "            x2 = x_n\n",
    "            i += 1\n",
    "        except ZeroDivisionError:\n",
    "            print(\"Hubo un error de división por cero.\\nIntente otros valores iniciales u otra precision\")\n",
    "            return i, x_n, f(x_n)\n",
    "    if(i == max_iterations):\n",
    "        print(\"No se pudo encontrar una raíz con la precisión especificada\")\n",
    "    return i, x_n, f(x_n)\n"
   ]
  },
  {
   "cell_type": "code",
   "execution_count": 6,
   "metadata": {},
   "outputs": [],
   "source": [
    "# Función para encontrar hasta n raíces de la función\n",
    "def find_roots(f_s, tol,x_0 = 3, x_1 = 4, x_2 = 5, max_roots = 20, max_iterations = 100):\n",
    "    # datos de la tabla\n",
    "    columns = (\"it\",\"root\",\"f(r)\")\n",
    "    table = create_dictionary(columns)\n",
    "    rows = 0 # cada fila representa una raíz\n",
    "    # definiciones simbólicas\n",
    "    x = sp.Symbol(\"x\")\n",
    "    f_sym = sp.sympify(f_s)\n",
    "    f = sp.lambdify(x,f_sym)\n",
    "    # valores iniciales\n",
    "    x0, x1, x2 = x_0, x_1, x_2\n",
    "    # iterando mientras sea posible encontrar una raíz utilizando el procedimiento de supresión\n",
    "    while valid_function(f(x0), f(x1), f(x2)) and rows < max_roots:\n",
    "        add_info(table, columns, muller(x0,x1,x2,f,tol,max_iterations))\n",
    "        f_sym = f_sym/(sp.sympify(x-(table[\"root\"][rows])))\n",
    "        f = sp.lambdify(x,f_sym)\n",
    "        rows += 1  \n",
    "\n",
    "    return table\n",
    "   \n"
   ]
  },
  {
   "cell_type": "markdown",
   "metadata": {},
   "source": [
    "Como primer ejemplo se utilizará el algoritmo para encontrar las cinco raíces de la función polinómica definida anteriormente \n",
    "$$x^5 + 11x^4 - 21x^3 - 10x^2-21x-5$$\n",
    "con una precisión de $\\epsilon = 10^{-14}$."
   ]
  },
  {
   "cell_type": "code",
   "execution_count": 7,
   "metadata": {},
   "outputs": [
    {
     "name": "stdout",
     "output_type": "stream",
     "text": [
      "Hubo un error de división por cero.\n",
      "Intente otros valores iniciales u otra precision\n"
     ]
    },
    {
     "data": {
      "text/html": [
       "<div>\n",
       "<style scoped>\n",
       "    .dataframe tbody tr th:only-of-type {\n",
       "        vertical-align: middle;\n",
       "    }\n",
       "\n",
       "    .dataframe tbody tr th {\n",
       "        vertical-align: top;\n",
       "    }\n",
       "\n",
       "    .dataframe thead th {\n",
       "        text-align: right;\n",
       "    }\n",
       "</style>\n",
       "<table border=\"1\" class=\"dataframe\">\n",
       "  <thead>\n",
       "    <tr style=\"text-align: right;\">\n",
       "      <th></th>\n",
       "      <th>it</th>\n",
       "      <th>root</th>\n",
       "      <th>f(r)</th>\n",
       "    </tr>\n",
       "  </thead>\n",
       "  <tbody>\n",
       "    <tr>\n",
       "      <th>0</th>\n",
       "      <td>16</td>\n",
       "      <td>2.2600855281+0.0000000000j</td>\n",
       "      <td>2.8421709430e-14+0.0000000000e+00j</td>\n",
       "    </tr>\n",
       "    <tr>\n",
       "      <th>1</th>\n",
       "      <td>10</td>\n",
       "      <td>-0.1987095314-0.8133125468j</td>\n",
       "      <td>-6.5120015684e-16+2.1540195308e-16j</td>\n",
       "    </tr>\n",
       "    <tr>\n",
       "      <th>2</th>\n",
       "      <td>7</td>\n",
       "      <td>-0.2502369403-0.0000000000j</td>\n",
       "      <td>-6.4767422167e-20+4.1033394356e-21j</td>\n",
       "    </tr>\n",
       "    <tr>\n",
       "      <th>3</th>\n",
       "      <td>2</td>\n",
       "      <td>-0.1987095314+0.8133125468j</td>\n",
       "      <td>-2.3999483925e-16-9.6614298441e-17j</td>\n",
       "    </tr>\n",
       "    <tr>\n",
       "      <th>4</th>\n",
       "      <td>2</td>\n",
       "      <td>-12.6124295249+0.0000000000j</td>\n",
       "      <td>-1.4723248549e-15+4.3200800142e-24j</td>\n",
       "    </tr>\n",
       "  </tbody>\n",
       "</table>\n",
       "</div>"
      ],
      "text/plain": [
       "   it                         root                                f(r)\n",
       "0  16   2.2600855281+0.0000000000j  2.8421709430e-14+0.0000000000e+00j\n",
       "1  10  -0.1987095314-0.8133125468j -6.5120015684e-16+2.1540195308e-16j\n",
       "2   7  -0.2502369403-0.0000000000j -6.4767422167e-20+4.1033394356e-21j\n",
       "3   2  -0.1987095314+0.8133125468j -2.3999483925e-16-9.6614298441e-17j\n",
       "4   2 -12.6124295249+0.0000000000j -1.4723248549e-15+4.3200800142e-24j"
      ]
     },
     "metadata": {},
     "output_type": "display_data"
    }
   ],
   "source": [
    "results = find_roots(f_string, tol, x_0, x_1, x_2, 10, 500)\n",
    "df = pd.DataFrame(results)\n",
    "display(df)\n",
    "\n"
   ]
  },
  {
   "cell_type": "markdown",
   "metadata": {},
   "source": [
    "El siguiente ejemplo a investigar consiste en la función:\n",
    "$$((x-\\frac{1}{2})^2)^{\\frac{1}{3}}\\sqrt{x+1}-\\frac{3 \\cdot 7^{\\frac{7}{5}} \\cdot 3^{\\frac{2}{3}} \\cdot 2^{\\frac{1}{6}}}{49}$$\n",
    "Por lo que el código quedaría como:"
   ]
  },
  {
   "cell_type": "code",
   "execution_count": 8,
   "metadata": {},
   "outputs": [
    {
     "data": {
      "text/html": [
       "<div>\n",
       "<style scoped>\n",
       "    .dataframe tbody tr th:only-of-type {\n",
       "        vertical-align: middle;\n",
       "    }\n",
       "\n",
       "    .dataframe tbody tr th {\n",
       "        vertical-align: top;\n",
       "    }\n",
       "\n",
       "    .dataframe thead th {\n",
       "        text-align: right;\n",
       "    }\n",
       "</style>\n",
       "<table border=\"1\" class=\"dataframe\">\n",
       "  <thead>\n",
       "    <tr style=\"text-align: right;\">\n",
       "      <th></th>\n",
       "      <th>it</th>\n",
       "      <th>root</th>\n",
       "      <th>f(r)</th>\n",
       "    </tr>\n",
       "  </thead>\n",
       "  <tbody>\n",
       "    <tr>\n",
       "      <th>0</th>\n",
       "      <td>11</td>\n",
       "      <td>-3.5714286389e-01+1.9000218104e-08j</td>\n",
       "      <td>3.3306690739e-16+1.9643733482e-16j</td>\n",
       "    </tr>\n",
       "    <tr>\n",
       "      <th>1</th>\n",
       "      <td>5</td>\n",
       "      <td>8.8284894616e-01-8.2928724557e-26j</td>\n",
       "      <td>2.6860411874e-16+4.0186792003e-24j</td>\n",
       "    </tr>\n",
       "    <tr>\n",
       "      <th>2</th>\n",
       "      <td>949</td>\n",
       "      <td>-3.5714285714e-01-1.1152783506e-08j</td>\n",
       "      <td>8.4271218000e-17-1.8862926775e-17j</td>\n",
       "    </tr>\n",
       "    <tr>\n",
       "      <th>3</th>\n",
       "      <td>626</td>\n",
       "      <td>-5.2284746785e+07+3.3801069271e+06j</td>\n",
       "      <td>8.3207785462e-16-6.9973961999e-15j</td>\n",
       "    </tr>\n",
       "    <tr>\n",
       "      <th>4</th>\n",
       "      <td>131</td>\n",
       "      <td>-3.1578610302e+02-2.6524426694e+03j</td>\n",
       "      <td>5.1547199624e-15-8.5259946565e-15j</td>\n",
       "    </tr>\n",
       "  </tbody>\n",
       "</table>\n",
       "</div>"
      ],
      "text/plain": [
       "    it                                root                                f(r)\n",
       "0   11 -3.5714286389e-01+1.9000218104e-08j  3.3306690739e-16+1.9643733482e-16j\n",
       "1    5  8.8284894616e-01-8.2928724557e-26j  2.6860411874e-16+4.0186792003e-24j\n",
       "2  949 -3.5714285714e-01-1.1152783506e-08j  8.4271218000e-17-1.8862926775e-17j\n",
       "3  626 -5.2284746785e+07+3.3801069271e+06j  8.3207785462e-16-6.9973961999e-15j\n",
       "4  131 -3.1578610302e+02-2.6524426694e+03j  5.1547199624e-15-8.5259946565e-15j"
      ]
     },
     "metadata": {},
     "output_type": "display_data"
    }
   ],
   "source": [
    "f_string = \"(((x-(1/2))**2)**(1/3))*(x+1)**(1/2) - (3*7**(5/6)*3**(2/3)*2**(1/6))/49\"\n",
    "x_0 = -1\n",
    "x_1 = 0\n",
    "x_2 = 1\n",
    "results = find_roots(f_string, tol, x_0, x_1, x_2, 5, 1000)\n",
    "df = pd.DataFrame(results)\n",
    "display(df)\n"
   ]
  },
  {
   "cell_type": "markdown",
   "metadata": {},
   "source": [
    "Una gráfica de la función permite visualizar la forma de la gráfica y dónde se ubican dos de sus raíces reales:"
   ]
  },
  {
   "cell_type": "code",
   "execution_count": 9,
   "metadata": {},
   "outputs": [
    {
     "data": {
      "image/png": "[encoded data removed]",
      "text/plain": [
       "<Figure size 432x288 with 1 Axes>"
      ]
     },
     "metadata": {
      "needs_background": "light"
     },
     "output_type": "display_data"
    }
   ],
   "source": [
    "def draw_graph(f_s, a, b):\n",
    "    xarr = np.linspace(a,b,10000)\n",
    "    x = sp.Symbol(\"x\")\n",
    "    g = sp.lambdify(x,f_s)\n",
    "    out = g(xarr)\n",
    "    fig = plt.figure()\n",
    "    ax = fig.add_subplot(1, 1, 1)\n",
    "    ax.spines['left'].set_position('center')\n",
    "    ax.spines['bottom'].set_position('zero')\n",
    "    ax.spines['right'].set_color('none')\n",
    "    ax.spines['top'].set_color('none')\n",
    "    ax.xaxis.set_ticks_position('bottom')\n",
    "    ax.yaxis.set_ticks_position('left')\n",
    "\n",
    "    # plot the function\n",
    "    plt.plot(xarr,out, 'g')\n",
    "\n",
    "    # show the plot\n",
    "    plt.show()\n",
    "\n",
    "\n",
    "draw_graph(f_string,-1,2)"
   ]
  },
  {
   "cell_type": "markdown",
   "metadata": {},
   "source": [
    "Lo cual demuestra que la implementación del algoritmo pudo encontrar las raíces reales con pocas iteraciones, también se puede observar que para encontrar algunas raíces complejas fueron necesarias casi 1000 iteraciones en un caso.\n",
    "La siguiente función a considerar es una que presente un comportamiento oscilatorio como lo es la función $\\frac{\\sin{x}}{x}$ por lo que a continuación se muestra una búsqueda de 10 raíces de la función teniendo el cuidado de no escoger cero como punto inicial pues la función es discontinua en tal nodo."
   ]
  },
  {
   "cell_type": "code",
   "execution_count": 13,
   "metadata": {},
   "outputs": [
    {
     "data": {
      "text/html": [
       "<div>\n",
       "<style scoped>\n",
       "    .dataframe tbody tr th:only-of-type {\n",
       "        vertical-align: middle;\n",
       "    }\n",
       "\n",
       "    .dataframe tbody tr th {\n",
       "        vertical-align: top;\n",
       "    }\n",
       "\n",
       "    .dataframe thead th {\n",
       "        text-align: right;\n",
       "    }\n",
       "</style>\n",
       "<table border=\"1\" class=\"dataframe\">\n",
       "  <thead>\n",
       "    <tr style=\"text-align: right;\">\n",
       "      <th></th>\n",
       "      <th>it</th>\n",
       "      <th>root</th>\n",
       "      <th>f(r)</th>\n",
       "    </tr>\n",
       "  </thead>\n",
       "  <tbody>\n",
       "    <tr>\n",
       "      <th>0</th>\n",
       "      <td>5</td>\n",
       "      <td>3.1415926536+0.0000000000j</td>\n",
       "      <td>3.8981718325e-17-0.0000000000e+00j</td>\n",
       "    </tr>\n",
       "    <tr>\n",
       "      <th>1</th>\n",
       "      <td>7</td>\n",
       "      <td>6.2831853072+0.0000000000j</td>\n",
       "      <td>-1.2408266323e-17+0.0000000000e+00j</td>\n",
       "    </tr>\n",
       "    <tr>\n",
       "      <th>2</th>\n",
       "      <td>7</td>\n",
       "      <td>-3.1415926536+0.0000000000j</td>\n",
       "      <td>1.0330328115e-16+0.0000000000e+00j</td>\n",
       "    </tr>\n",
       "    <tr>\n",
       "      <th>3</th>\n",
       "      <td>9</td>\n",
       "      <td>9.4247779608-0.0000000000j</td>\n",
       "      <td>1.5715252885e-19+5.9993625504e-20j</td>\n",
       "    </tr>\n",
       "    <tr>\n",
       "      <th>4</th>\n",
       "      <td>13</td>\n",
       "      <td>-9.4247779610+0.0000000008j</td>\n",
       "      <td>-1.0727014739e-15+3.8060897600e-15j</td>\n",
       "    </tr>\n",
       "    <tr>\n",
       "      <th>5</th>\n",
       "      <td>14</td>\n",
       "      <td>15.7079632603+0.0000000004j</td>\n",
       "      <td>1.3892091397e-15-7.6846610446e-17j</td>\n",
       "    </tr>\n",
       "    <tr>\n",
       "      <th>6</th>\n",
       "      <td>8</td>\n",
       "      <td>-6.2831853071-0.0000000002j</td>\n",
       "      <td>2.4663839420e-17-6.7142014580e-17j</td>\n",
       "    </tr>\n",
       "    <tr>\n",
       "      <th>7</th>\n",
       "      <td>18</td>\n",
       "      <td>21.9912112442+0.0000111640j</td>\n",
       "      <td>-5.4600850658e-15-9.7263764193e-16j</td>\n",
       "    </tr>\n",
       "    <tr>\n",
       "      <th>8</th>\n",
       "      <td>7</td>\n",
       "      <td>12.5663704867-0.0000000000j</td>\n",
       "      <td>-2.8317079479e-16-6.5447880282e-21j</td>\n",
       "    </tr>\n",
       "    <tr>\n",
       "      <th>9</th>\n",
       "      <td>22</td>\n",
       "      <td>-22.1693472054+0.5037918801j</td>\n",
       "      <td>2.6950423688e-15-4.0899818040e-15j</td>\n",
       "    </tr>\n",
       "  </tbody>\n",
       "</table>\n",
       "</div>"
      ],
      "text/plain": [
       "   it                         root                                f(r)\n",
       "0   5   3.1415926536+0.0000000000j  3.8981718325e-17-0.0000000000e+00j\n",
       "1   7   6.2831853072+0.0000000000j -1.2408266323e-17+0.0000000000e+00j\n",
       "2   7  -3.1415926536+0.0000000000j  1.0330328115e-16+0.0000000000e+00j\n",
       "3   9   9.4247779608-0.0000000000j  1.5715252885e-19+5.9993625504e-20j\n",
       "4  13  -9.4247779610+0.0000000008j -1.0727014739e-15+3.8060897600e-15j\n",
       "5  14  15.7079632603+0.0000000004j  1.3892091397e-15-7.6846610446e-17j\n",
       "6   8  -6.2831853071-0.0000000002j  2.4663839420e-17-6.7142014580e-17j\n",
       "7  18  21.9912112442+0.0000111640j -5.4600850658e-15-9.7263764193e-16j\n",
       "8   7  12.5663704867-0.0000000000j -2.8317079479e-16-6.5447880282e-21j\n",
       "9  22 -22.1693472054+0.5037918801j  2.6950423688e-15-4.0899818040e-15j"
      ]
     },
     "metadata": {},
     "output_type": "display_data"
    }
   ],
   "source": [
    "f_string = \"sin(x)/x\"\n",
    "x_0 = 1\n",
    "x_1 = 2\n",
    "x_2 = 3\n",
    "results = find_roots(f_string, tol, x_0, x_1, x_2, 10, 1000)\n",
    "df = pd.DataFrame(results)\n",
    "display(df)"
   ]
  },
  {
   "cell_type": "markdown",
   "metadata": {},
   "source": [
    "Por último se busca encontrar las 4 raíces del polinomio:\n",
    "$$x^4-4.096152422706631x^3+3.284232335022705x^2+4.703847577293368x-5.715767664977294$$  \n",
    "pero sin coincidir el número máximo de raíces a encontrar con el grado del polinomio"
   ]
  },
  {
   "cell_type": "code",
   "execution_count": 15,
   "metadata": {},
   "outputs": [
    {
     "name": "stdout",
     "output_type": "stream",
     "text": [
      "No se pudo encontrar una raíz con la precisión especificada\n",
      "No se pudo encontrar una raíz con la precisión especificada\n"
     ]
    },
    {
     "data": {
      "text/html": [
       "<div>\n",
       "<style scoped>\n",
       "    .dataframe tbody tr th:only-of-type {\n",
       "        vertical-align: middle;\n",
       "    }\n",
       "\n",
       "    .dataframe tbody tr th {\n",
       "        vertical-align: top;\n",
       "    }\n",
       "\n",
       "    .dataframe thead th {\n",
       "        text-align: right;\n",
       "    }\n",
       "</style>\n",
       "<table border=\"1\" class=\"dataframe\">\n",
       "  <thead>\n",
       "    <tr style=\"text-align: right;\">\n",
       "      <th></th>\n",
       "      <th>it</th>\n",
       "      <th>root</th>\n",
       "      <th>f(r)</th>\n",
       "    </tr>\n",
       "  </thead>\n",
       "  <tbody>\n",
       "    <tr>\n",
       "      <th>0</th>\n",
       "      <td>34</td>\n",
       "      <td>1.7320362525-0.0000053471j</td>\n",
       "      <td>0.0000000000e+00-9.1912934241e-15j</td>\n",
       "    </tr>\n",
       "    <tr>\n",
       "      <th>1</th>\n",
       "      <td>1000</td>\n",
       "      <td>1.7320581844-0.0000131159j</td>\n",
       "      <td>-7.6639072809e-11-1.2295114629e-11j</td>\n",
       "    </tr>\n",
       "    <tr>\n",
       "      <th>2</th>\n",
       "      <td>1000</td>\n",
       "      <td>1.7320579985+0.0000128452j</td>\n",
       "      <td>-1.9334942227e-06-1.5242639413e-06j</td>\n",
       "    </tr>\n",
       "    <tr>\n",
       "      <th>3</th>\n",
       "      <td>3</td>\n",
       "      <td>-1.1000000000-0.0000000000j</td>\n",
       "      <td>-3.9101758806e-17-3.6359797978e-17j</td>\n",
       "    </tr>\n",
       "  </tbody>\n",
       "</table>\n",
       "</div>"
      ],
      "text/plain": [
       "     it                        root                                f(r)\n",
       "0    34  1.7320362525-0.0000053471j  0.0000000000e+00-9.1912934241e-15j\n",
       "1  1000  1.7320581844-0.0000131159j -7.6639072809e-11-1.2295114629e-11j\n",
       "2  1000  1.7320579985+0.0000128452j -1.9334942227e-06-1.5242639413e-06j\n",
       "3     3 -1.1000000000-0.0000000000j -3.9101758806e-17-3.6359797978e-17j"
      ]
     },
     "metadata": {},
     "output_type": "display_data"
    }
   ],
   "source": [
    "f_string = \"x**4 - 4.096152422706631*x**3 + 3.284232335022705*x**2 + 4.703847577293368*x - 5.715767664977294\"\n",
    "x_0 = 1\n",
    "x_1 = 1+1j\n",
    "x_2 = 2\n",
    "results = find_roots(f_string, tol, x_0, x_1, x_2, 5, 1000)\n",
    "df = pd.DataFrame(results)\n",
    "display(df)"
   ]
  },
  {
   "cell_type": "markdown",
   "metadata": {},
   "source": [
    "De los datos es posible evidenciar que las dos raíces que no fueron posibles de encontrar con la precisión especificada fueron las raíces complejas. De aquí sería posible notar las limitaciones del método considerando la supresión y cómo afecta en casos donde la cantidad de cifras significativas es muy exacta (como el polinomio anterior donde la función está definida con muchos decimales).\n",
    "\n",
    "Igualmente en otros ejemplos vistos en esta presentación es posible encontrar casos donde el algoritmo si bien aproximó una raíz no fue capaz de lograr la precisión especificada."
   ]
  }
 ],
 "metadata": {
  "interpreter": {
   "hash": "e5e6950e623d4582d624e135a1184e8efadbec668f85cbea1d2eb28257370c61"
  },
  "kernelspec": {
   "display_name": "Python 3.9.13 64-bit (windows store)",
   "language": "python",
   "name": "python3"
  },
  "language_info": {
   "codemirror_mode": {
    "name": "ipython",
    "version": 3
   },
   "file_extension": ".py",
   "mimetype": "text/x-python",
   "name": "python",
   "nbconvert_exporter": "python",
   "pygments_lexer": "ipython3",
   "version": "3.9.13"
  },
  "orig_nbformat": 4
 },
 "nbformat": 4,
 "nbformat_minor": 2
}
